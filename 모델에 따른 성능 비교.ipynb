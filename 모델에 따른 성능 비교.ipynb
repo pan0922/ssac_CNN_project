{
  "nbformat": 4,
  "nbformat_minor": 0,
  "metadata": {
    "colab": {
      "name": "1.Basic_model.ipynb",
      "provenance": [],
      "collapsed_sections": []
    },
    "kernelspec": {
      "display_name": "Python 3",
      "language": "python",
      "name": "python3"
    },
    "language_info": {
      "codemirror_mode": {
        "name": "ipython",
        "version": 3
      },
      "file_extension": ".py",
      "mimetype": "text/x-python",
      "name": "python",
      "nbconvert_exporter": "python",
      "pygments_lexer": "ipython3",
      "version": "3.7.0"
    },
    "accelerator": "GPU"
  },
  "cells": [
    {
      "cell_type": "markdown",
      "source": [
        "# imgaug 설치"
      ],
      "metadata": {
        "id": "UFf4bA4x5ZRv"
      }
    },
    {
      "cell_type": "code",
      "source": [
        "!pip install six numpy scipy Pillow matplotlib scikit-image opencv-python imageio Shapely"
      ],
      "metadata": {
        "colab": {
          "base_uri": "https://localhost:8080/"
        },
        "id": "FI-2S5CD5dwm",
        "outputId": "16f024f5-ac35-4b06-d064-ea28ac90beb7"
      },
      "execution_count": null,
      "outputs": [
        {
          "output_type": "stream",
          "name": "stdout",
          "text": [
            "Requirement already satisfied: six in /usr/local/lib/python3.7/dist-packages (1.15.0)\n",
            "Requirement already satisfied: numpy in /usr/local/lib/python3.7/dist-packages (1.21.5)\n",
            "Requirement already satisfied: scipy in /usr/local/lib/python3.7/dist-packages (1.4.1)\n",
            "Requirement already satisfied: Pillow in /usr/local/lib/python3.7/dist-packages (7.1.2)\n",
            "Requirement already satisfied: matplotlib in /usr/local/lib/python3.7/dist-packages (3.2.2)\n",
            "Requirement already satisfied: scikit-image in /usr/local/lib/python3.7/dist-packages (0.18.3)\n",
            "Requirement already satisfied: opencv-python in /usr/local/lib/python3.7/dist-packages (4.1.2.30)\n",
            "Requirement already satisfied: imageio in /usr/local/lib/python3.7/dist-packages (2.4.1)\n",
            "Requirement already satisfied: Shapely in /usr/local/lib/python3.7/dist-packages (1.8.1.post1)\n",
            "Requirement already satisfied: cycler>=0.10 in /usr/local/lib/python3.7/dist-packages (from matplotlib) (0.11.0)\n",
            "Requirement already satisfied: pyparsing!=2.0.4,!=2.1.2,!=2.1.6,>=2.0.1 in /usr/local/lib/python3.7/dist-packages (from matplotlib) (3.0.7)\n",
            "Requirement already satisfied: kiwisolver>=1.0.1 in /usr/local/lib/python3.7/dist-packages (from matplotlib) (1.3.2)\n",
            "Requirement already satisfied: python-dateutil>=2.1 in /usr/local/lib/python3.7/dist-packages (from matplotlib) (2.8.2)\n",
            "Requirement already satisfied: tifffile>=2019.7.26 in /usr/local/lib/python3.7/dist-packages (from scikit-image) (2021.11.2)\n",
            "Requirement already satisfied: networkx>=2.0 in /usr/local/lib/python3.7/dist-packages (from scikit-image) (2.6.3)\n",
            "Requirement already satisfied: PyWavelets>=1.1.1 in /usr/local/lib/python3.7/dist-packages (from scikit-image) (1.2.0)\n"
          ]
        }
      ]
    },
    {
      "cell_type": "code",
      "source": [
        "!pip install imgaug"
      ],
      "metadata": {
        "colab": {
          "base_uri": "https://localhost:8080/"
        },
        "id": "7EXTN_si5scf",
        "outputId": "e38a942a-52f2-4612-fd2b-208c3a266bc9"
      },
      "execution_count": null,
      "outputs": [
        {
          "output_type": "stream",
          "name": "stdout",
          "text": [
            "Requirement already satisfied: imgaug in /usr/local/lib/python3.7/dist-packages (0.2.9)\n",
            "Requirement already satisfied: scipy in /usr/local/lib/python3.7/dist-packages (from imgaug) (1.4.1)\n",
            "Requirement already satisfied: six in /usr/local/lib/python3.7/dist-packages (from imgaug) (1.15.0)\n",
            "Requirement already satisfied: imageio in /usr/local/lib/python3.7/dist-packages (from imgaug) (2.4.1)\n",
            "Requirement already satisfied: Pillow in /usr/local/lib/python3.7/dist-packages (from imgaug) (7.1.2)\n",
            "Requirement already satisfied: Shapely in /usr/local/lib/python3.7/dist-packages (from imgaug) (1.8.1.post1)\n",
            "Requirement already satisfied: numpy>=1.15.0 in /usr/local/lib/python3.7/dist-packages (from imgaug) (1.21.5)\n",
            "Requirement already satisfied: matplotlib in /usr/local/lib/python3.7/dist-packages (from imgaug) (3.2.2)\n",
            "Requirement already satisfied: opencv-python in /usr/local/lib/python3.7/dist-packages (from imgaug) (4.1.2.30)\n",
            "Requirement already satisfied: scikit-image>=0.11.0 in /usr/local/lib/python3.7/dist-packages (from imgaug) (0.18.3)\n",
            "Requirement already satisfied: networkx>=2.0 in /usr/local/lib/python3.7/dist-packages (from scikit-image>=0.11.0->imgaug) (2.6.3)\n",
            "Requirement already satisfied: PyWavelets>=1.1.1 in /usr/local/lib/python3.7/dist-packages (from scikit-image>=0.11.0->imgaug) (1.2.0)\n",
            "Requirement already satisfied: tifffile>=2019.7.26 in /usr/local/lib/python3.7/dist-packages (from scikit-image>=0.11.0->imgaug) (2021.11.2)\n",
            "Requirement already satisfied: pyparsing!=2.0.4,!=2.1.2,!=2.1.6,>=2.0.1 in /usr/local/lib/python3.7/dist-packages (from matplotlib->imgaug) (3.0.7)\n",
            "Requirement already satisfied: cycler>=0.10 in /usr/local/lib/python3.7/dist-packages (from matplotlib->imgaug) (0.11.0)\n",
            "Requirement already satisfied: kiwisolver>=1.0.1 in /usr/local/lib/python3.7/dist-packages (from matplotlib->imgaug) (1.3.2)\n",
            "Requirement already satisfied: python-dateutil>=2.1 in /usr/local/lib/python3.7/dist-packages (from matplotlib->imgaug) (2.8.2)\n"
          ]
        }
      ]
    },
    {
      "cell_type": "code",
      "source": [
        "!pip install -q git+https://github.com/tensorflow/docs"
      ],
      "metadata": {
        "id": "BtFDeA2ja5Ki"
      },
      "execution_count": null,
      "outputs": []
    },
    {
      "cell_type": "markdown",
      "source": [
        "# 전처리"
      ],
      "metadata": {
        "id": "dCs3ShIZUQgQ"
      }
    },
    {
      "cell_type": "code",
      "metadata": {
        "colab": {
          "base_uri": "https://localhost:8080/"
        },
        "id": "hCYIHYBIr9qT",
        "outputId": "9a79ae20-3930-4b15-9c9a-e4f1a38c7e2b"
      },
      "source": [
        "from google.colab import drive\n",
        "drive.mount('/content/drive')"
      ],
      "execution_count": null,
      "outputs": [
        {
          "output_type": "stream",
          "name": "stdout",
          "text": [
            "Mounted at /content/drive\n"
          ]
        }
      ]
    },
    {
      "cell_type": "code",
      "metadata": {
        "id": "IoTt6i-JYr-D"
      },
      "source": [
        "from tensorflow import keras\n",
        "import matplotlib.pyplot as plt\n",
        "import tensorflow as tf\n",
        "import pandas as pd\n",
        "import numpy as np\n",
        "import cv2\n",
        "from tensorflow.keras.utils import to_categorical\n",
        "from tensorflow.keras.preprocessing.image import ImageDataGenerator\n",
        "import sklearn\n",
        "# from tensorflow_docs.vis import embed\n",
        "import imageio\n",
        "import matplotlib.pyplot as plt\n",
        "from sklearn.model_selection import train_test_split\n",
        "import os\n",
        "import random\n",
        "seed = 42\n",
        "random.seed(seed)\n",
        "np.random.seed(seed)\n",
        "os.environ[\"PYTHONHASHSEED\"] = str(seed)\n",
        "tf.random.set_seed(seed)"
      ],
      "execution_count": null,
      "outputs": []
    },
    {
      "cell_type": "code",
      "metadata": {
        "id": "UwtWy24jYr-E"
      },
      "source": [
        "# 이미지의 가로 세로\n",
        "IMG_SIZE = 224\n",
        "# 비디오에서 학습할 프레임 개수\n",
        "MAX_SEQ_LENGTH = 20"
      ],
      "execution_count": null,
      "outputs": []
    },
    {
      "cell_type": "code",
      "source": [
        "# 학습한 Resnet152 모델 읽기\n",
        "model = keras.models.load_model(\"/content/drive/MyDrive/Colab Notebooks/best_cnn_train.h5\")"
      ],
      "metadata": {
        "id": "9DVzHbFpbDUE"
      },
      "execution_count": null,
      "outputs": []
    },
    {
      "cell_type": "code",
      "source": [
        "#class 3개\n",
        "data_path = \"/content/drive/MyDrive/인공지능 자연어처리 및 음성인식 음성합성 기술을 활용한 응용 SW 개발자 양성과정 /4.딥러닝_프로젝트/workspace/\""
      ],
      "metadata": {
        "id": "aa-u8xtAkADi"
      },
      "execution_count": null,
      "outputs": []
    },
    {
      "cell_type": "code",
      "metadata": {
        "id": "YBfaMCZz_wR4"
      },
      "source": [
        "# class 5개\n",
        "# data_path = \"/content/drive/MyDrive/data/\""
      ],
      "execution_count": null,
      "outputs": []
    },
    {
      "cell_type": "code",
      "metadata": {
        "id": "jbAVH1dfYr-F"
      },
      "source": [
        "# 학습 데이터의 파일명과 종류가 저장된 train.csv 를 읽음\n",
        "train_df = pd.read_csv(data_path + \"train.csv\")\n",
        "test_df = pd.read_csv(data_path+\"test.csv\")"
      ],
      "execution_count": null,
      "outputs": []
    },
    {
      "cell_type": "code",
      "metadata": {
        "id": "YKguyR7UjhSn"
      },
      "source": [
        "# 비디오의 종류가 저장된 tag 컬럼을 label 컬럼에 대입\n",
        "train_df[\"label\"] = train_df[\"tag\"]\n",
        "test_df[\"label\"] = test_df[\"tag\"]"
      ],
      "execution_count": null,
      "outputs": []
    },
    {
      "cell_type": "code",
      "metadata": {
        "id": "n2zN7xr9i2XM"
      },
      "source": [
        "# enumerate(train_df[\"label\"].unique()) : label 컬럼에 저장된 데이터를 중복을 제거한 값에 인덱스 추가\n",
        "for index, data in enumerate(train_df[\"label\"].unique()):\n",
        "    # label 컬럼에 저장된 data 를 index로 변환\n",
        "    train_df[\"label\"].replace(data, index, inplace=True) "
      ],
      "execution_count": null,
      "outputs": []
    },
    {
      "cell_type": "code",
      "source": [
        "for index, data in enumerate(test_df[\"label\"].unique()):\n",
        "    # label 컬럼에 저장된 data 를 index로 변환\n",
        "    test_df[\"label\"].replace(data, index, inplace=True) "
      ],
      "metadata": {
        "id": "PjjovNvwbq9A"
      },
      "execution_count": null,
      "outputs": []
    },
    {
      "cell_type": "code",
      "metadata": {
        "id": "60HihjYMkJi3"
      },
      "source": [
        "# sklearn.utils.shuffle(train_df) : train_df에 저장된 행을 섞음\n",
        "train_df = sklearn.utils.shuffle(train_df)\n",
        "test_df=sklearn.utils.shuffle(test_df)"
      ],
      "execution_count": null,
      "outputs": []
    },
    {
      "cell_type": "code",
      "metadata": {
        "id": "n2w0G2XIdo01"
      },
      "source": [
        "# 비디오를 구성하는 이미지의 가운데 부분을 리턴\n",
        "# frame : 비디오를 구성하는 이미지\n",
        "def crop_center_square(frame):\n",
        "    # frame.shape[0:2] : 이미지의 세로, 가로 리턴\n",
        "    y, x = frame.shape[0:2]\n",
        "    # 이미지의 세로 가로 중에서 작은 값을 리턴\n",
        "    min_dim = min(y, x)\n",
        "    #이미지의 왼쪽 모서리 좌표의 가로 시작점\n",
        "    # 이미지 가로 좌표 (이미지 가로 //2  - min_dim//2) ~ (이미지 가로 //2  + min_dim//2) \n",
        "    start_x = (x // 2) - (min_dim // 2)\n",
        "    # 이미지의 왼쪽 모서리 세로 좌표 시작점\n",
        "    # 이미지 세로 좌표 (이미지 세로 //2  - min_dim//2) ~ (이미지 세로 //2  + min_dim//2) \n",
        "    start_y = (y // 2) - (min_dim // 2)\n",
        "    return frame[start_y : start_y + min_dim, start_x : start_x + min_dim]"
      ],
      "execution_count": null,
      "outputs": []
    },
    {
      "cell_type": "code",
      "metadata": {
        "id": "rpharqIqYr-G"
      },
      "source": [
        "# 비디오 파일을 읽어서 각 프레임을 이미지로 변환해서 리턴\n",
        "# path : 비디오 파일 경로\n",
        "# max_frames : 이미지로 변환할 프레임수\n",
        "# resize=(IMG_SIZE, IMG_SIZE) : 이미지의 가로 세로\n",
        "def load_video(path, max_frames=20, resize=(IMG_SIZE, IMG_SIZE)):\n",
        "    # 비디오 파일을 읽어서 이미지로 변환 할 객페\n",
        "    cap = cv2.VideoCapture(path)\n",
        "    frames = []\n",
        "    try:\n",
        "        while True:\n",
        "            # cap.read() : 비디오를 읽어서 리턴\n",
        "            # ret : 비디오 읽기가 성공했으면 True, 더이상 읽을 비디오 프레임이 없으면 False 가 리턴\n",
        "            # frame : 비디오 프레임 이미지를 리턴\n",
        "            ret, frame = cap.read()\n",
        "            # ret 가 False면 반복 종료\n",
        "            if not ret:\n",
        "                break\n",
        "            # 비디오 이미지를 가운데 리턴\n",
        "            frame = crop_center_square(frame)\n",
        "            #비디오 이미지의 가로 세로를 resize=(224,224) 로 변환\n",
        "            frame = cv2.resize(frame, resize)\n",
        "            # frame 은  [줄, 칸, B G R ] 로 구성되 있음 \n",
        "            # frame [ : (모든줄), : (모든칸), R (인덱스2) G (인덱스1) B (인덱스0 )] 리턴\n",
        "            frame = frame[:, :, [2, 1, 0]]\n",
        "            # frame을 frames에 추가\n",
        "            frames.append(frame)\n",
        "            # frames에 저장된 데이터수가 max_frames와 같으면 종료\n",
        "            if len(frames) == max_frames:\n",
        "                break\n",
        "    finally:\n",
        "        # 비디오 이미지 변환 종료\n",
        "        cap.release()\n",
        "    # frames를 numpy 배열로 변환 해서 리턴\n",
        "    return np.array(frames)\n"
      ],
      "execution_count": null,
      "outputs": []
    },
    {
      "cell_type": "code",
      "metadata": {
        "id": "1pq8Q1BwYr-I"
      },
      "source": [
        "# 모든 비디오 파일의 이미지와 종류를 리턴\n",
        "# video_name : 비디오 파일명\n",
        "# label: 비디오 파일 종류\n",
        "# root_dir : 비디오 파일 경로\n",
        "def prepare_all_videos(video_name , label, root_dir):\n",
        "    # 비디오 파일 이름의 개수\n",
        "    num_samples = len(video_name)\n",
        "    # video_name.values.tolist() : 비디오 파일 이름을 리스트로 변환 해서 리턴\n",
        "    video_paths = video_name.values.tolist()\n",
        "    # 비디오 종류를 리턴\n",
        "    labels = label.values\n",
        "    # 비디오 종류를 2차원 배열로 변환\n",
        "    labels = labels.reshape(-1,1)\n",
        "    # 0으로 초기화된 [비디오 파일개수 * 20 , 224 , 224, 3] 배열 생성\n",
        "    x = np.zeros(shape=(num_samples*MAX_SEQ_LENGTH, IMG_SIZE, IMG_SIZE, 3 ), dtype=\"float32\" )\n",
        "    # 0으로 초기화된 [비디오파일개수 * 20] 인 배열 생성\n",
        "    y = np.zeros(shape=(num_samples*MAX_SEQ_LENGTH), dtype=\"float32\")\n",
        "    # 인덱스 초기화\n",
        "    index = 0\n",
        "    # 비디오 파일의 개수 만큼 반복\n",
        "    for idx, path in enumerate(video_paths):\n",
        "        # 비디오 파일을 읽어서 각 프레임의 이미지를 리턴\n",
        "        frames = load_video(root_dir+ path)\n",
        "        # 프레임의 개수 만큼 반복\n",
        "        for i in range(len(frames)):\n",
        "            # frame의 i번째 이미지를 x에 추가\n",
        "            x[index] = np.array(frames[i], dtype=\"float32\")\n",
        "            # 비디오의 종류가 저장된 labels의 idx 번째를 y에 추가\n",
        "            y[index]= np.array(labels[idx], dtype=\"float32\")\n",
        "            # index 1 증가\n",
        "            index += 1 \n",
        "    \n",
        "    # 전체 비디오 프레임을 이미지로 변환한 x \n",
        "    # to_categorical(y) : 이미지의 종류 y 를 onehot 인코딩 \n",
        "    return (x,to_categorical(y))"
      ],
      "execution_count": null,
      "outputs": []
    },
    {
      "cell_type": "code",
      "metadata": {
        "id": "og_Yqy6h28QJ"
      },
      "source": [
        "# 비디오 프레임을 이미지로 변환한 데이터를 X_train에 저장\n",
        "# 비디오 프레임 이미지의 종류를 y_train에 저장\n",
        "# X_train, y_train = prepare_all_videos(train_df[\"video_name\"], train_df[\"label\"] , data_path + \"train/\")\n",
        "X_test, y_test = prepare_all_videos(test_df[\"video_name\"], test_df[\"label\"] , data_path + \"test/\")"
      ],
      "execution_count": null,
      "outputs": []
    },
    {
      "cell_type": "code",
      "source": [
        "X_train, X_val, y_train, y_val = train_test_split(X_train, y_train, test_size = 0.2)"
      ],
      "metadata": {
        "id": "bImPwqF-RK4a"
      },
      "execution_count": null,
      "outputs": []
    },
    {
      "cell_type": "code",
      "metadata": {
        "colab": {
          "base_uri": "https://localhost:8080/"
        },
        "outputId": "03e933a0-46f9-4a6e-d21e-c577bea1dba3",
        "id": "_fEPS7h4D96H"
      },
      "source": [
        "X_train.shape"
      ],
      "execution_count": null,
      "outputs": [
        {
          "output_type": "execute_result",
          "data": {
            "text/plain": [
              "(5696, 224, 224, 3)"
            ]
          },
          "metadata": {},
          "execution_count": 18
        }
      ]
    },
    {
      "cell_type": "code",
      "source": [
        "X_val.shape"
      ],
      "metadata": {
        "colab": {
          "base_uri": "https://localhost:8080/"
        },
        "id": "cSMRaZohR_Co",
        "outputId": "d5319b1f-0a99-4936-eb4b-b7b7ddc77c2c"
      },
      "execution_count": null,
      "outputs": [
        {
          "output_type": "execute_result",
          "data": {
            "text/plain": [
              "(1424, 224, 224, 3)"
            ]
          },
          "metadata": {},
          "execution_count": 19
        }
      ]
    },
    {
      "cell_type": "code",
      "source": [
        "X_test.shape"
      ],
      "metadata": {
        "colab": {
          "base_uri": "https://localhost:8080/"
        },
        "id": "m8vKtvYYcL0u",
        "outputId": "d9957a3f-679e-4a9c-985c-2e5dcfb8f6eb"
      },
      "execution_count": null,
      "outputs": [
        {
          "output_type": "execute_result",
          "data": {
            "text/plain": [
              "(2740, 224, 224, 3)"
            ]
          },
          "metadata": {},
          "execution_count": 20
        }
      ]
    },
    {
      "cell_type": "code",
      "metadata": {
        "colab": {
          "base_uri": "https://localhost:8080/"
        },
        "outputId": "e683b444-9fa9-4591-d2f1-69548d9d0559",
        "id": "sUezHm1ED96H"
      },
      "source": [
        "y_train.shape"
      ],
      "execution_count": null,
      "outputs": [
        {
          "output_type": "execute_result",
          "data": {
            "text/plain": [
              "(5696, 3)"
            ]
          },
          "metadata": {},
          "execution_count": 21
        }
      ]
    },
    {
      "cell_type": "markdown",
      "source": [
        "#모델 생성"
      ],
      "metadata": {
        "id": "525iDas6UXhk"
      }
    },
    {
      "cell_type": "code",
      "source": [
        "from tensorflow.keras.models import Sequential\n",
        "from tensorflow.keras.layers import Conv2D\n",
        "from tensorflow.keras.layers import MaxPooling2D\n",
        "from keras.layers import Dropout\n",
        "from tensorflow.keras.layers import Flatten\n",
        "from tensorflow.keras.layers import Dense"
      ],
      "metadata": {
        "id": "7taa9gv5_lvu"
      },
      "execution_count": null,
      "outputs": []
    },
    {
      "cell_type": "code",
      "source": [
        "model = Sequential()\n",
        "model.add(Conv2D(32, kernel_size=(3, 3),  input_shape=(224, 224, 3),activation='relu', padding=\"SAME\"))\n",
        "model.add(MaxPooling2D(pool_size=2,  padding=\"SAME\"))\n",
        "model.add(Conv2D(64, kernel_size=(3, 3),activation='relu',padding=\"SAME\"))\n",
        "model.add(MaxPooling2D(pool_size=2,  padding=\"SAME\"))\n",
        "model.add(Conv2D(128, kernel_size=(3, 3),activation='relu',padding=\"SAME\"))\n",
        "model.add(MaxPooling2D(pool_size=2,  padding=\"SAME\"))\n",
        "model.add(Dropout(0.5))\n",
        "model.add(Flatten())\n",
        "model.add(Dense(256, activation='relu'))\n",
        "model.add(Dropout(0.8))\n",
        "model.add(Dense(3, activation=\"softmax\"))"
      ],
      "metadata": {
        "id": "w3Hvifgm_vG8"
      },
      "execution_count": null,
      "outputs": []
    },
    {
      "cell_type": "code",
      "metadata": {
        "id": "cTjOhZXzQTBM"
      },
      "source": [
        "from tensorflow.keras.models import Sequential\n",
        "from tensorflow.keras.applications import ResNet152V2 #사전학습 모델 지정\n",
        "from tensorflow.keras.layers import Dense\n",
        "from tensorflow.keras.layers import Flatten\n",
        "from tensorflow.keras.layers import Dropout"
      ],
      "execution_count": null,
      "outputs": []
    },
    {
      "cell_type": "code",
      "source": [
        "resnet = ResNet152V2( include_top=False,input_shape=(224, 224, 3))"
      ],
      "metadata": {
        "id": "Ii6QZ8re9ZBE",
        "colab": {
          "base_uri": "https://localhost:8080/"
        },
        "outputId": "d85a8a83-c39b-4451-e282-dc9398764c3b"
      },
      "execution_count": null,
      "outputs": [
        {
          "output_type": "stream",
          "name": "stdout",
          "text": [
            "Downloading data from https://storage.googleapis.com/tensorflow/keras-applications/resnet/resnet152v2_weights_tf_dim_ordering_tf_kernels_notop.h5\n",
            "234553344/234545216 [==============================] - 6s 0us/step\n",
            "234561536/234545216 [==============================] - 6s 0us/step\n"
          ]
        }
      ]
    },
    {
      "cell_type": "code",
      "source": [
        "# 이미지넷 대회에서 사용한 필터들의 값을 수정하지 않고 그대로 사용\n",
        "resnet.trainable=False"
      ],
      "metadata": {
        "id": "Nn1m139Qk5gR"
      },
      "execution_count": null,
      "outputs": []
    },
    {
      "cell_type": "code",
      "source": [
        "resnet.summary()"
      ],
      "metadata": {
        "id": "Wz0vLhUqBaCZ"
      },
      "execution_count": null,
      "outputs": []
    },
    {
      "cell_type": "code",
      "source": [
        "from tensorflow.keras.utils import plot_model\n",
        "#resnet 모델 시각화\n",
        "# plot_model(resnet, show_shapes=True)"
      ],
      "metadata": {
        "id": "_qUSeWSy4Wsr"
      },
      "execution_count": null,
      "outputs": []
    },
    {
      "cell_type": "code",
      "metadata": {
        "id": "eo0tjoMv4Tal"
      },
      "source": [
        "#입력값을 읽어서 예측을 할 Sequential 객체 생성\n",
        "model = Sequential()\n",
        "model.add(resnet)\n",
        "model.add(Flatten())\n",
        "model.add(Dense(256, activation='relu'))\n",
        "model.add(Dropout(0.8))\n",
        "model.add(Dense(3, activation=\"softmax\"))"
      ],
      "execution_count": null,
      "outputs": []
    },
    {
      "cell_type": "code",
      "metadata": {
        "id": "JwXa0LDk4Ta4",
        "colab": {
          "base_uri": "https://localhost:8080/"
        },
        "outputId": "bedd0ea0-7627-4a85-a192-36f1a5e1d8ca"
      },
      "source": [
        "#생성된 모델 정보 출력\n",
        "model.summary()"
      ],
      "execution_count": null,
      "outputs": [
        {
          "output_type": "stream",
          "name": "stdout",
          "text": [
            "Model: \"sequential\"\n",
            "_________________________________________________________________\n",
            " Layer (type)                Output Shape              Param #   \n",
            "=================================================================\n",
            " conv2d (Conv2D)             (None, 224, 224, 32)      896       \n",
            "                                                                 \n",
            " max_pooling2d (MaxPooling2D  (None, 112, 112, 32)     0         \n",
            " )                                                               \n",
            "                                                                 \n",
            " conv2d_1 (Conv2D)           (None, 112, 112, 64)      18496     \n",
            "                                                                 \n",
            " max_pooling2d_1 (MaxPooling  (None, 56, 56, 64)       0         \n",
            " 2D)                                                             \n",
            "                                                                 \n",
            " conv2d_2 (Conv2D)           (None, 56, 56, 128)       73856     \n",
            "                                                                 \n",
            " max_pooling2d_2 (MaxPooling  (None, 28, 28, 128)      0         \n",
            " 2D)                                                             \n",
            "                                                                 \n",
            " dropout (Dropout)           (None, 28, 28, 128)       0         \n",
            "                                                                 \n",
            " flatten (Flatten)           (None, 100352)            0         \n",
            "                                                                 \n",
            " dense (Dense)               (None, 256)               25690368  \n",
            "                                                                 \n",
            " dropout_1 (Dropout)         (None, 256)               0         \n",
            "                                                                 \n",
            " dense_1 (Dense)             (None, 3)                 771       \n",
            "                                                                 \n",
            "=================================================================\n",
            "Total params: 25,784,387\n",
            "Trainable params: 25,784,387\n",
            "Non-trainable params: 0\n",
            "_________________________________________________________________\n"
          ]
        }
      ]
    },
    {
      "cell_type": "code",
      "source": [
        "#model  모델 시각화\n",
        "plot_model(model, show_shapes=True)"
      ],
      "metadata": {
        "colab": {
          "base_uri": "https://localhost:8080/",
          "height": 1000
        },
        "id": "B8lQuwCbHZmo",
        "outputId": "c67b04a9-13c3-4d27-ab6f-71c17cdc974d"
      },
      "execution_count": null,
      "outputs": [
        {
          "output_type": "execute_result",
          "data": {
            "image/png": "[encoded data removed]",
            "text/plain": [
              "<IPython.core.display.Image object>"
            ]
          },
          "metadata": {},
          "execution_count": 25
        }
      ]
    },
    {
      "cell_type": "code",
      "metadata": {
        "id": "T78yNwdDC1mr"
      },
      "source": [
        "from tensorflow.keras.optimizers import Adam"
      ],
      "execution_count": null,
      "outputs": []
    },
    {
      "cell_type": "code",
      "metadata": {
        "colab": {
          "base_uri": "https://localhost:8080/"
        },
        "id": "AxUCnGgaCKkl",
        "outputId": "abdc8e9c-9de1-4267-a872-3eebfc22696a"
      },
      "source": [
        "model.compile(\n",
        "                  loss=\"categorical_crossentropy\", \n",
        "                   optimizer=Adam(lr=1e-4),\n",
        "                   metrics=[\"acc\"]\n",
        "              )"
      ],
      "execution_count": null,
      "outputs": [
        {
          "output_type": "stream",
          "name": "stderr",
          "text": [
            "/usr/local/lib/python3.7/dist-packages/keras/optimizer_v2/adam.py:105: UserWarning: The `lr` argument is deprecated, use `learning_rate` instead.\n",
            "  super(Adam, self).__init__(name, **kwargs)\n"
          ]
        }
      ]
    },
    {
      "cell_type": "markdown",
      "source": [
        "# 이미지를 증강해서 배치 사이즈 만큼씩 리턴하는 객체"
      ],
      "metadata": {
        "id": "fvPnpBhvP3LO"
      }
    },
    {
      "cell_type": "code",
      "source": [
        "import imgaug.augmenters as iaa"
      ],
      "metadata": {
        "id": "4JH4q6pE7Ll9"
      },
      "execution_count": null,
      "outputs": []
    },
    {
      "cell_type": "markdown",
      "source": [
        "# 이미지를 증강해서 배치 사이즈 만큼씩 리턴하는 객체"
      ],
      "metadata": {
        "id": "vuvkBQxz98qw"
      }
    },
    {
      "cell_type": "code",
      "source": [
        "import imgaug.augmenters as iaa"
      ],
      "metadata": {
        "id": "_5KLtr1W-LsQ"
      },
      "execution_count": null,
      "outputs": []
    },
    {
      "cell_type": "code",
      "source": [
        "import imgaug as ia"
      ],
      "metadata": {
        "id": "9Ai1JR2d-Nsg"
      },
      "execution_count": null,
      "outputs": []
    },
    {
      "cell_type": "code",
      "source": [
        "# Sometimes(0.5, ...) applies the given augmenter in 50% of all cases,\n",
        "# e.g. Sometimes(0.5, GaussianBlur(0.3)) would blur roughly every second image.\n",
        "sometimes = lambda aug: iaa.Sometimes(0.5, aug)\n",
        "\n",
        "# Define our sequence of augmentation steps that will be applied to every image\n",
        "# All augmenters with per_channel=0.5 will sample one value _per image_\n",
        "# in 50% of all cases. In all other cases they will sample new values\n",
        "# _per channel_.\n",
        "\n",
        "seq = iaa.Sequential(\n",
        "    [\n",
        "        # apply the following augmenters to most images\n",
        "        iaa.Fliplr(0.5), # horizontally flip 50% of all images\n",
        "        iaa.Flipud(0.2), # vertically flip 20% of all images\n",
        "        # crop images by -5% to 10% of their height/width\n",
        "        sometimes(iaa.CropAndPad(\n",
        "            percent=(-0.05, 0.1),\n",
        "            pad_mode=ia.ALL,\n",
        "            pad_cval=(0, 255)\n",
        "        )),\n",
        "        sometimes(iaa.Affine(\n",
        "            scale={\"x\": (0.8, 1.2), \"y\": (0.8, 1.2)}, # scale images to 80-120% of their size, individually per axis\n",
        "            translate_percent={\"x\": (-0.2, 0.2), \"y\": (-0.2, 0.2)}, # translate by -20 to +20 percent (per axis)\n",
        "            rotate=(-45, 45), # rotate by -45 to +45 degrees\n",
        "            shear=(-16, 16), # shear by -16 to +16 degrees\n",
        "            order=[0, 1], # use nearest neighbour or bilinear interpolation (fast)\n",
        "            cval=(0, 255), # if mode is constant, use a cval between 0 and 255\n",
        "            mode=ia.ALL # use any of scikit-image's warping modes (see 2nd image from the top for examples)\n",
        "        )),\n",
        "        # execute 0 to 5 of the following (less important) augmenters per image\n",
        "        # don't execute all of them, as that would often be way too strong\n",
        "        iaa.SomeOf((0, 5),\n",
        "            [\n",
        "                sometimes(iaa.Superpixels(p_replace=(0, 1.0), n_segments=(20, 200))), # convert images into their superpixel representation\n",
        "                iaa.OneOf([\n",
        "                    iaa.GaussianBlur((0, 3.0)), # blur images with a sigma between 0 and 3.0\n",
        "                    iaa.AverageBlur(k=(2, 7)), # blur image using local means with kernel sizes between 2 and 7\n",
        "                    iaa.MedianBlur(k=(3, 11)), # blur image using local medians with kernel sizes between 2 and 7\n",
        "                ]),\n",
        "                iaa.Sharpen(alpha=(0, 1.0), lightness=(0.75, 1.5)), # sharpen images\n",
        "                iaa.Emboss(alpha=(0, 1.0), strength=(0, 2.0)), # emboss images\n",
        "                # search either for all edges or for directed edges,\n",
        "                # blend the result with the original image using a blobby mask\n",
        "                iaa.SimplexNoiseAlpha(iaa.OneOf([\n",
        "                    iaa.EdgeDetect(alpha=(0.5, 1.0)),\n",
        "                    iaa.DirectedEdgeDetect(alpha=(0.5, 1.0), direction=(0.0, 1.0)),\n",
        "                ])),\n",
        "                iaa.AdditiveGaussianNoise(loc=0, scale=(0.0, 0.05*255), per_channel=0.5), # add gaussian noise to images\n",
        "                iaa.OneOf([\n",
        "                    iaa.Dropout((0.01, 0.1), per_channel=0.5), # randomly remove up to 10% of the pixels\n",
        "                    iaa.CoarseDropout((0.03, 0.15), size_percent=(0.02, 0.05), per_channel=0.2),\n",
        "                ]),\n",
        "                iaa.Invert(0.05, per_channel=True), # invert color channels\n",
        "                iaa.Add((-10, 10), per_channel=0.5), # change brightness of images (by -10 to 10 of original value)\n",
        "                iaa.AddToHueAndSaturation((-20, 20)), # change hue and saturation\n",
        "                # either change the brightness of the whole image (sometimes\n",
        "                # per channel) or change the brightness of subareas\n",
        "                iaa.OneOf([\n",
        "                    iaa.Multiply((0.5, 1.5), per_channel=0.5),\n",
        "                    iaa.FrequencyNoiseAlpha(\n",
        "                        exponent=(-4, 0),\n",
        "                        first=iaa.Multiply((0.5, 1.5), per_channel=True),\n",
        "                        second=iaa.LinearContrast((0.5, 2.0))\n",
        "                    )\n",
        "                ]),\n",
        "                iaa.LinearContrast((0.5, 2.0), per_channel=0.5), # improve or worsen the contrast\n",
        "                iaa.Grayscale(alpha=(0.0, 1.0)),\n",
        "                sometimes(iaa.ElasticTransformation(alpha=(0.5, 3.5), sigma=0.25)), # move pixels locally around (with random strengths)\n",
        "                sometimes(iaa.PiecewiseAffine(scale=(0.01, 0.05))), # sometimes move parts of the image around\n",
        "                sometimes(iaa.PerspectiveTransform(scale=(0.01, 0.1)))\n",
        "            ],\n",
        "            random_order=True\n",
        "        )\n",
        "    ],\n",
        "    random_order=True\n",
        ")"
      ],
      "metadata": {
        "id": "ojM32F57Q6cG"
      },
      "execution_count": null,
      "outputs": []
    },
    {
      "cell_type": "code",
      "source": [
        "seq"
      ],
      "metadata": {
        "colab": {
          "base_uri": "https://localhost:8080/"
        },
        "id": "TPhrO7nxQ9kQ",
        "outputId": "a27af92f-e41e-426f-c00e-7ee106166527"
      },
      "execution_count": null,
      "outputs": [
        {
          "output_type": "execute_result",
          "data": {
            "text/plain": [
              "Sequential(name=UnnamedSequential, random_order=True, children=[Fliplr(name=UnnamedFliplr, parameters=[Binomial(Deterministic(float 0.50000000))], deterministic=False), Flipud(name=UnnamedFlipud, parameters=[Binomial(Deterministic(float 0.20000000))], deterministic=False), Sometimes(p=Binomial(Deterministic(float 0.50000000)), name=UnnamedSometimes, then_list=Sequential(name=UnnamedSometimes-then, random_order=False, children=[CropAndPad(name=UnnamedCropAndPad, parameters=[Uniform(Deterministic(float -0.05000000), Deterministic(float 0.10000000)), None, None, None, None, Choice(a=['linear_ramp', 'median', 'constant', 'reflect', 'wrap', 'symmetric', 'mean', 'minimum', 'maximum', 'edge'], replace=True, p=None), DiscreteUniform(Deterministic(int 0), Deterministic(int 255))], deterministic=False)], deterministic=False), else_list=None, deterministic=False), Sometimes(p=Binomial(Deterministic(float 0.50000000)), name=UnnamedSometimes, then_list=Sequential(name=UnnamedSometimes-then, random_order=False, children=[Affine(name=UnnamedAffine, parameters=[(Uniform(Deterministic(float 0.80000000), Deterministic(float 1.20000000)), Uniform(Deterministic(float 0.80000000), Deterministic(float 1.20000000))), (Uniform(Deterministic(float -0.20000000), Deterministic(float 0.20000000)), Uniform(Deterministic(float -0.20000000), Deterministic(float 0.20000000))), Uniform(Deterministic(int -45), Deterministic(int 45)), Uniform(Deterministic(int -16), Deterministic(int 16)), Choice(a=[0, 1], replace=True, p=None), Uniform(Deterministic(int 0), Deterministic(int 255)), Choice(a=['constant', 'edge', 'symmetric', 'reflect', 'wrap'], replace=True, p=None), auto, False], deterministic=False)], deterministic=False), else_list=None, deterministic=False), SomeOf(name=UnnamedSomeOf, n=DiscreteUniform(Deterministic(int 0), Deterministic(int 5)), random_order=True, augmenters=[Sometimes(p=Binomial(Deterministic(float 0.50000000)), name=UnnamedSometimes, then_list=Sequential(name=UnnamedSometimes-then, random_order=False, children=[Superpixels(name=UnnamedSuperpixels, parameters=[Binomial(Uniform(Deterministic(int 0), Deterministic(float 1.00000000))), DiscreteUniform(Deterministic(int 20), Deterministic(int 200)), 128, linear], deterministic=False)], deterministic=False), else_list=None, deterministic=False), SomeOf(name=UnnamedSomeOf, n=1, random_order=False, augmenters=[GaussianBlur(name=UnnamedGaussianBlur, parameters=[Uniform(Deterministic(int 0), Deterministic(float 3.00000000))], deterministic=False), AverageBlur(name=UnnamedAverageBlur, parameters=[DiscreteUniform(Deterministic(int 2), Deterministic(int 7))], deterministic=False), MedianBlur(name=UnnamedMedianBlur, parameters=[DiscreteUniform(Deterministic(int 3), Deterministic(int 11))], deterministic=False)], deterministic=False), Convolve(name=UnnamedSharpen, parameters=[<function Sharpen.<locals>.create_matrices at 0x7f1e12b38710>, function], deterministic=False), Convolve(name=UnnamedEmboss, parameters=[<function Emboss.<locals>.create_matrices at 0x7f1e0a4e0560>, function], deterministic=False), AlphaElementwise(factor=IterativeNoiseAggregator(SimplexNoise(DiscreteUniform(Deterministic(int 2), Deterministic(int 16)), Choice(a=['nearest', 'linear', 'cubic'], replace=True, p=[0.05, 0.6, 0.35])), DiscreteUniform(Deterministic(int 1), Deterministic(int 3)), Deterministic(max)), per_channel=Deterministic(int 0), name=UnnamedSimplexNoiseAlpha, first=SomeOf(name=UnnamedSomeOf, n=1, random_order=False, augmenters=[Convolve(name=UnnamedEdgeDetect, parameters=[<function EdgeDetect.<locals>.create_matrices at 0x7f1e0a451050>, function], deterministic=False), Convolve(name=UnnamedDirectedEdgeDetect, parameters=[<function DirectedEdgeDetect.<locals>.create_matrices at 0x7f1e0a4510e0>, function], deterministic=False)], deterministic=False), second=None, deterministic=False), AddElementwise(name=UnnamedAdditiveGaussianNoise, parameters=[Normal(loc=Deterministic(int 0), scale=Uniform(Deterministic(float 0.00000000), Deterministic(float 12.75000000))), Binomial(Deterministic(float 0.50000000))], deterministic=False), SomeOf(name=UnnamedSomeOf, n=1, random_order=False, augmenters=[MultiplyElementwise(name=UnnamedDropout, parameters=[Binomial(Uniform(Deterministic(float 0.90000000), Deterministic(float 0.99000000))), Binomial(Deterministic(float 0.50000000))], deterministic=False), MultiplyElementwise(name=UnnamedCoarseDropout, parameters=[FromLowerResolution(size_percent=Uniform(Deterministic(float 0.02000000), Deterministic(float 0.05000000)), method=Deterministic(nearest), other_param=Binomial(Uniform(Deterministic(float 0.85000000), Deterministic(float 0.97000000)))), Binomial(Deterministic(float 0.20000000))], deterministic=False)], deterministic=False), Invert(name=UnnamedInvert, parameters=[Binomial(Deterministic(float 0.05000000)), Deterministic(int 1), None, None], deterministic=False), Add(name=UnnamedAdd, parameters=[Uniform(Deterministic(int -10), Deterministic(int 10)), Binomial(Deterministic(float 0.50000000))], deterministic=False), AddToHueAndSaturation(name=UnnamedAddToHueAndSaturation, parameters=[DiscreteUniform(Deterministic(int -20), Deterministic(int 20)), Deterministic(int 0)], deterministic=False), SomeOf(name=UnnamedSomeOf, n=1, random_order=False, augmenters=[Multiply(name=UnnamedMultiply, parameters=[Uniform(Deterministic(float 0.50000000), Deterministic(float 1.50000000)), Binomial(Deterministic(float 0.50000000))], deterministic=False), AlphaElementwise(factor=IterativeNoiseAggregator(FrequencyNoise(Uniform(Deterministic(int -4), Deterministic(int 0)), DiscreteUniform(Deterministic(int 4), Deterministic(int 16)), Choice(a=['nearest', 'linear', 'cubic'], replace=True, p=[0.05, 0.6, 0.35])), DiscreteUniform(Deterministic(int 1), Deterministic(int 3)), Choice(a=['avg', 'max'], replace=True, p=None)), per_channel=Deterministic(int 0), name=UnnamedFrequencyNoiseAlpha, first=Sequential(name=UnnamedFrequencyNoiseAlpha-first, random_order=False, children=[Multiply(name=UnnamedMultiply, parameters=[Uniform(Deterministic(float 0.50000000), Deterministic(float 1.50000000)), Deterministic(int 1)], deterministic=False)], deterministic=False), second=Sequential(name=UnnamedFrequencyNoiseAlpha-second, random_order=False, children=[_ContrastFuncWrapper(name=LinearContrast, parameters=[Uniform(Deterministic(float 0.50000000), Deterministic(float 2.00000000))], deterministic=False)], deterministic=False), deterministic=False)], deterministic=False), _ContrastFuncWrapper(name=LinearContrast, parameters=[Uniform(Deterministic(float 0.50000000), Deterministic(float 2.00000000))], deterministic=False), ChangeColorspace(name=UnnamedGrayscale, parameters=[Deterministic(GRAY), Uniform(Deterministic(float 0.00000000), Deterministic(float 1.00000000))], deterministic=False), Sometimes(p=Binomial(Deterministic(float 0.50000000)), name=UnnamedSometimes, then_list=Sequential(name=UnnamedSometimes-then, random_order=False, children=[ElasticTransformation(name=UnnamedElasticTransformation, parameters=[Uniform(Deterministic(float 0.50000000), Deterministic(float 3.50000000)), Deterministic(float 0.25000000), Deterministic(int 3), Deterministic(int 0), Deterministic(constant)], deterministic=False)], deterministic=False), else_list=None, deterministic=False), Sometimes(p=Binomial(Deterministic(float 0.50000000)), name=UnnamedSometimes, then_list=Sequential(name=UnnamedSometimes-then, random_order=False, children=[PiecewiseAffine(name=UnnamedPiecewiseAffine, parameters=[Uniform(Deterministic(float 0.01000000), Deterministic(float 0.05000000)), Deterministic(int 4), Deterministic(int 4), Deterministic(int 1), Deterministic(int 0), Deterministic(constant), False], deterministic=False)], deterministic=False), else_list=None, deterministic=False), Sometimes(p=Binomial(Deterministic(float 0.50000000)), name=UnnamedSometimes, then_list=Sequential(name=UnnamedSometimes-then, random_order=False, children=[PerspectiveTransform(name=UnnamedPerspectiveTransform, parameters=[Normal(loc=Deterministic(int 0), scale=Uniform(Deterministic(float 0.01000000), Deterministic(float 0.10000000))), True, Deterministic(int 0), Deterministic(constant)], deterministic=False)], deterministic=False), else_list=None, deterministic=False)], deterministic=False)], deterministic=False)"
            ]
          },
          "metadata": {},
          "execution_count": 38
        }
      ]
    },
    {
      "cell_type": "code",
      "source": [
        "import math"
      ],
      "metadata": {
        "id": "BmJAXZBwUgen"
      },
      "execution_count": null,
      "outputs": []
    },
    {
      "cell_type": "code",
      "source": [
        "# # 이미지를 증강시켜서 배치 사이즈 만큼씩 리턴하는 클래스 구현\n",
        "\n",
        "# class  ImageSequence(tf.keras.utils.Sequence):\n",
        "#     # 객체 생성시 실행되는 함수\n",
        "#     # 매개변수\n",
        "#     # image_arr : 이미지가 저장된 배열\n",
        "#     # label_arr : 이미지의 종류가 저장된 배열\n",
        "#     # batch_size : 배치 사이즈 (한번에 리턴할 파일 개수)\n",
        "#     # seq : 이미지 증강 객체\n",
        "\n",
        "#     def __init__(self, image_arr ,label_arr, batch_size, seq):\n",
        "#         # 매개변수들을 속성에 저장\n",
        "#         self.image_arr  = image_arr \n",
        "#         self.label_arr = label_arr\n",
        "#         self.batch_size = batch_size\n",
        "#         self.seq = seq\n",
        "    \n",
        "#     # batch_size씩 이미지를 리턴했을때 전체 이미지를 리턴하려명 몆번 반복해야 하는지 리턴\n",
        "#     def __len__(self):\n",
        "        \n",
        "#         # math.ceil : 소숫점 1자리 올림 예) 6.1 -> 7   6 -> 6   6.0 -> 6\n",
        "\n",
        "#         # image_arr  (이미지가 저장된 배열) / batch_size (한번에 리턴할 이미지 개수) 의 올림을 리턴     \n",
        "#         return math.ceil(len(self.image_arr ) / self.batch_size)\n",
        "\n",
        "#     # 학습시 batch_size 씩 이미지를 리턴하는 함수로 텐서플로우에서 학습시 model 객체에서 자동으로 호출하는 함수\n",
        "#     # 매개변수 idx : 몆번째 batch 인지가 저장되는 매개변수 0부터 시작\n",
        "#     def __getitem__(self, idx):\n",
        "#         # idx * self.batch_size 부터 (idx + 1) * self.batch_size 까지 이미지 리턴\n",
        "#         batch_image_arr = self.image_arr[idx * self.batch_size:(idx + 1) * self.batch_size]\n",
        "#         # 증강시키기 위해서 batch_image_arr을 정수로 변환\n",
        "#         img = np.array( batch_image_arr,  dtype=np.uint8)\n",
        "#         # img를 증강시켜서 generate_img에 저장\n",
        "#         generate_img = seq(images=img) \n",
        "#         # idx * self.batch_size 부터 (idx + 1) * self.batch_size 까지 이미지 종류 리턴\n",
        "#         batch_label_arr = self.label_arr[idx * self.batch_size:(idx + 1) * self.batch_size]\n",
        "\n",
        "#         return generate_img/255.0, batch_label_arr\n",
        "        "
      ],
      "metadata": {
        "id": "hQHEwoviPBFm"
      },
      "execution_count": null,
      "outputs": []
    },
    {
      "cell_type": "code",
      "source": [
        "# 이미지를 증강시켜서 배치 사이즈 만큼씩 리턴하는 클래스 구현\n",
        "\n",
        "class  ImageSequence(tf.keras.utils.Sequence):\n",
        "    # 객체 생성시 실행되는 함수\n",
        "    # 매개변수\n",
        "    # image_arr : 이미지가 저장된 배열\n",
        "    # label_arr : 이미지의 종류가 저장된 배열\n",
        "    # batch_size : 배치 사이즈 (한번에 리턴할 파일 개수)\n",
        "    # seq : 이미지 증강 객체\n",
        "\n",
        "    def __init__(self, image_arr ,label_arr, batch_size, seq):\n",
        "        # 매개변수들을 속성에 저장\n",
        "        self.image_arr  = image_arr \n",
        "        self.label_arr = label_arr\n",
        "        self.batch_size = batch_size\n",
        "        self.seq = seq\n",
        "    \n",
        "    # batch_size씩 이미지를 리턴했을때 전체 이미지를 리턴하려명 몆번 반복해야 하는지 리턴\n",
        "    def __len__(self):\n",
        "        \n",
        "        # math.ceil : 소숫점 1자리 올림 예) 6.1 -> 7   6 -> 6   6.0 -> 6\n",
        "\n",
        "        # image_arr  (이미지가 저장된 배열) / batch_size (한번에 리턴할 이미지 개수) 의 올림을 리턴     \n",
        "        return math.ceil(len(self.image_arr ) / self.batch_size)\n",
        "\n",
        "    # 학습시 batch_size 씩 이미지를 리턴하는 함수로 텐서플로우에서 학습시 model 객체에서 자동으로 호출하는 함수\n",
        "    # 매개변수 idx : 몆번째 batch 인지가 저장되는 매개변수 0부터 시작\n",
        "    def __getitem__(self, idx):\n",
        "        # idx * self.batch_size 부터 (idx + 1) * self.batch_size 까지 이미지 리턴\n",
        "        images = self.image_arr[idx * self.batch_size:(idx + 1) * self.batch_size]\n",
        "        # 증강시키기 위해서 batch_image_arr을 정수로 변환\n",
        "        img = np.array( images,  dtype=np.uint8)\n",
        "        # img를 증강시켜서 generate_img에 저장\n",
        "        generate_img = seq(images=img) \n",
        "        # idx * self.batch_size 부터 (idx + 1) * self.batch_size 까지 이미지 종류 리턴\n",
        "        labels = self.label_arr[idx * self.batch_size:(idx + 1) * self.batch_size]\n",
        "\n",
        "        \n",
        "        generate_img = generate_img/255\n",
        "        #==================== 여기 밑으로 추가만 됐습니다.\n",
        "        imgs = []; labs = []\n",
        "        for i in range(len(generate_img)):   #i = 자를 사진 index\n",
        "          #print(\"i = \", i)\n",
        "          APPLY = tf.cast(tf.random.uniform(()) >= 0.5, tf.int32)  #0-1 랜덤 숫자 0.5보다 크면 1 아니면 0\n",
        "          idx = tf.random.uniform((), 0, len(generate_img), tf.int32)  #채워줄 사진 index,  0-배치 중 하나\n",
        "\n",
        "          W = 224\n",
        "          H = 224\n",
        "          lam = tf.random.uniform(())  #사진 비율\n",
        "          cut_ratio = tf.math.sqrt(1.-lam)\n",
        "          cut_w = tf.cast(W * cut_ratio, tf.int32) * APPLY   #0곱해지면 적용 x\n",
        "          cut_h = tf.cast(H * cut_ratio, tf.int32) * APPLY\n",
        "\n",
        "          cx = tf.random.uniform((), int(W/8), int(7/8*W), tf.int32)   #자르는 이미지의 중심좌표(중심이 너무 외곽이 안잡히도록)\n",
        "          cy = tf.random.uniform((), int(H/8), int(7/8*H), tf.int32)\n",
        "\n",
        "          xmin = tf.clip_by_value(cx - cut_w//2, 0, W)  #0과 끝을 벗어나지 않도록\n",
        "          ymin = tf.clip_by_value(cy - cut_h//2, 0, H)\n",
        "          xmax = tf.clip_by_value(cx + cut_w//2, 0, W)\n",
        "          ymax = tf.clip_by_value(cy + cut_h//2, 0, H)\n",
        "          mid_left = generate_img[i, ymin:ymax, :xmin, :]\n",
        "          mid_mid = generate_img[idx, ymin:ymax, xmin:xmax, :] \n",
        "          mid_right = generate_img[i, ymin:ymax, xmax:, :]\n",
        "\n",
        "          middle = tf.concat([mid_left, mid_mid, mid_right], axis=1)\n",
        "          top = generate_img[i, :ymin, :, :]\n",
        "          bottom = generate_img[i, ymax:, :, :]\n",
        "          new_img = tf.concat([top, middle, bottom], axis=0)\n",
        "          imgs.append(new_img)\n",
        "\n",
        "          cut_w_mod = xmax - xmin   #자르는 이미지가 기존 이미지의 밖으로 나가는 경우 처리하기위해\n",
        "          cut_h_mod = ymax - ymin\n",
        "          alpha = tf.cast((cut_w_mod*cut_h_mod)/(W*H), tf.float32) #실제 잘려진 면적의 비율\n",
        "          label1 = labels[i]\n",
        "          label2 = labels[idx]\n",
        "          new_label = ((1-alpha)*label1 + alpha*label2)\n",
        "          labs.append(new_label)\n",
        "         \n",
        "\n",
        "        return np.array(imgs, dtype=\"float32\"), np.array(labs,  dtype=\"float32\")"
      ],
      "metadata": {
        "id": "PfJiS2El12Xx"
      },
      "execution_count": null,
      "outputs": []
    },
    {
      "cell_type": "code",
      "source": [
        "# ImageSequence : 객체 생성\n",
        "# X_train : 이미지\n",
        "# y_train : 이미지 라벨\n",
        "# 32: 배치 사이즈\n",
        "#seq : 이미지 증강 객체\n",
        "train_sequence = ImageSequence(X_train, y_train, 64, seq)"
      ],
      "metadata": {
        "id": "kzk8BNgB-fRo"
      },
      "execution_count": null,
      "outputs": []
    },
    {
      "cell_type": "code",
      "source": [
        "es = tf.keras.callbacks.EarlyStopping(monitor = 'val_acc', mode = 'max', verbose = 1, patience = 10)\n",
        "save = tf.keras.callbacks.ModelCheckpoint(\"/content/drive/MyDrive/Colab Notebooks/best_cnn_train.h5\", monitor = 'val_acc', save_best_only=True)\n",
        "callback = [es, save]"
      ],
      "metadata": {
        "id": "OvgnLO9Eelvj"
      },
      "execution_count": null,
      "outputs": []
    },
    {
      "cell_type": "markdown",
      "source": [
        "ImageDateGenerator"
      ],
      "metadata": {
        "id": "hufsDd9KG88G"
      }
    },
    {
      "cell_type": "code",
      "source": [
        "# from tensorflow.keras.preprocessing.image import ImageDataGenerator\n",
        "# train_datagen = ImageDataGenerator(\n",
        "# \trotation_range=30, # 이미지 회전 각도\n",
        "# \tzoom_range=0.15, # 이미지 확대 비율\n",
        "# \twidth_shift_range=0.2, # 이미지 가로 이동 비율\n",
        "# \theight_shift_range=0.2, # 이미지 세로 이동 비율\n",
        "# \tshear_range=0.15, # 이미지 기울기 비율\n",
        "# \thorizontal_flip=True,# 이미지 좌우 반전\n",
        "# \trescale=1/255 # 이미지에 1/255 를 곱해줌\n",
        "# \t)\n",
        "# index=0\n",
        "# #증강시킨 20개의 이미지를 저장할 리스트\n",
        "# all_generate_img=[]\n",
        "\n",
        "# #train_datagen.flow(X_train[0]) : X_train[0] 를 회전, 수평이동, 수직이동, 좌우반전, 상하 반전등으로 증강 시켜서 리턴\n",
        "# #generate_img : 증강 시킨 데이터가 저장됨\n",
        "# for generate_img in train_datagen.flow(X_train[0].reshape(-1, 224, 224,3) ):\n",
        "#     #all_generate_img.append(generate_img): generate_img 증강시킨 이미지를 all_generate_img 에 추가 \n",
        "#     all_generate_img.append(generate_img)\n",
        "#     index += 1\n",
        "#     if index > 20:\n",
        "#         break  \n",
        "# # 이미지 학습\n",
        "# model.fit(\n",
        "# \t# 32개의 이미지씩 증강해서 학습  \n",
        "# \ttrain_datagen.flow(X_train, y_train, batch_size = 64),\n",
        "#     # 5번 반복해서 전체 이미지 학습 \n",
        "# \tepochs = 100,  callbacks = callback)"
      ],
      "metadata": {
        "id": "ZuMcRo7ShYyM"
      },
      "execution_count": null,
      "outputs": []
    },
    {
      "cell_type": "code",
      "source": [
        "import time\n",
        "\n",
        "def start():\n",
        "    start_time = time.time()\n",
        "    return start_time\n",
        "\n",
        "def end(start_time):\n",
        "    return time.time() - start_time"
      ],
      "metadata": {
        "id": "VwHApwxUqmrm"
      },
      "execution_count": null,
      "outputs": []
    },
    {
      "cell_type": "code",
      "source": [
        "start_time = start()\n",
        "# 이미지 학습\n",
        "hist = model.fit(\n",
        "\t#train_sequence가 리턴하는 증강된 이미지를 학습  \n",
        "\ttrain_sequence,validation_data = (X_val/255, y_val),\n",
        "    # 5번 반복해서 전체 이미지 학습 \n",
        "\tepochs = 10, callbacks = callback)\n",
        "end1 = end(start_time)"
      ],
      "metadata": {
        "colab": {
          "base_uri": "https://localhost:8080/"
        },
        "id": "oZhCCebPHNqF",
        "outputId": "af32e633-0ad8-4782-d102-b84b990ce979"
      },
      "execution_count": null,
      "outputs": [
        {
          "output_type": "stream",
          "name": "stderr",
          "text": [
            "/usr/local/lib/python3.7/dist-packages/imgaug/augmenters/segmentation.py:191: FutureWarning: skimage.measure.label's indexing starts from 0. In future version it will start from 1. To disable this warning, explicitely set the `start_label` parameter to 1.\n",
            "  segments = segmentation.slic(image, n_segments=n_segments_samples[i], compactness=10)\n"
          ]
        },
        {
          "output_type": "stream",
          "name": "stdout",
          "text": [
            "Epoch 1/10\n",
            "89/89 [==============================] - 134s 2s/step - loss: 0.9499 - acc: 0.5679 - val_loss: 0.5613 - val_acc: 0.8188\n",
            "Epoch 2/10\n",
            "89/89 [==============================] - 129s 1s/step - loss: 0.8060 - acc: 0.6726 - val_loss: 0.3644 - val_acc: 0.8645\n",
            "Epoch 3/10\n",
            "89/89 [==============================] - 128s 1s/step - loss: 0.7461 - acc: 0.7112 - val_loss: 0.2644 - val_acc: 0.9389\n",
            "Epoch 4/10\n",
            "89/89 [==============================] - 130s 1s/step - loss: 0.7072 - acc: 0.7342 - val_loss: 0.2405 - val_acc: 0.9382\n",
            "Epoch 5/10\n",
            "89/89 [==============================] - 127s 1s/step - loss: 0.6761 - acc: 0.7507 - val_loss: 0.1857 - val_acc: 0.9586\n",
            "Epoch 6/10\n",
            "89/89 [==============================] - 128s 1s/step - loss: 0.6535 - acc: 0.7672 - val_loss: 0.1794 - val_acc: 0.9621\n",
            "Epoch 7/10\n",
            "89/89 [==============================] - 129s 1s/step - loss: 0.6373 - acc: 0.7770 - val_loss: 0.1211 - val_acc: 0.9838\n",
            "Epoch 8/10\n",
            "89/89 [==============================] - 130s 1s/step - loss: 0.6267 - acc: 0.7839 - val_loss: 0.1069 - val_acc: 0.9867\n",
            "Epoch 9/10\n",
            "89/89 [==============================] - 129s 1s/step - loss: 0.6158 - acc: 0.7888 - val_loss: 0.0937 - val_acc: 0.9909\n",
            "Epoch 10/10\n",
            "89/89 [==============================] - 133s 1s/step - loss: 0.6051 - acc: 0.7916 - val_loss: 0.1095 - val_acc: 0.9867\n"
          ]
        }
      ]
    },
    {
      "cell_type": "code",
      "source": [
        "print(end1)"
      ],
      "metadata": {
        "id": "5s7VyAh-q2Qf"
      },
      "execution_count": null,
      "outputs": []
    },
    {
      "cell_type": "code",
      "source": [
        "acc = history.history['acc']\n",
        "loss = history.history['loss']\n",
        " \n",
        "epochs = range(len(acc))\n",
        " \n",
        "plt.plot(epochs, acc, 'b', label='accuracy')\n",
        "plt.plot(epochs, loss, 'r', label='loss')\n",
        "plt.title('accuracy and loss')\n",
        "plt.legend()\n",
        "  \n",
        "plt.show()"
      ],
      "metadata": {
        "colab": {
          "base_uri": "https://localhost:8080/",
          "height": 279
        },
        "id": "engR1D5OJ4eP",
        "outputId": "d00e2eff-735c-4ee3-8cd3-6a32f125a5fa"
      },
      "execution_count": null,
      "outputs": [
        {
          "output_type": "display_data",
          "data": {
            "image/png": "[encoded data removed]",
            "text/plain": [
              "<Figure size 432x288 with 1 Axes>"
            ]
          },
          "metadata": {
            "needs_background": "light"
          }
        }
      ]
    },
    {
      "cell_type": "code",
      "source": [
        "acc = history.history['val_acc']\n",
        "loss = history.history['val_loss']\n",
        " \n",
        "epochs = range(len(acc))\n",
        " \n",
        "plt.plot(epochs, acc, 'b', label='val_accuracy')\n",
        "plt.plot(epochs, loss, 'r', label='val_loss')\n",
        "plt.title('val_accuracy and val_loss')\n",
        "plt.legend()\n",
        "  \n",
        "plt.show()"
      ],
      "metadata": {
        "id": "t3O88gkeqgmD"
      },
      "execution_count": null,
      "outputs": []
    },
    {
      "cell_type": "code",
      "source": [
        "model.evaluate(\n",
        "    X_test/255, y_test, batch_size = 32\n",
        ")"
      ],
      "metadata": {
        "colab": {
          "base_uri": "https://localhost:8080/"
        },
        "id": "BL0SDDR0i_qT",
        "outputId": "734345d4-a199-41c4-83e5-57365553ec5f"
      },
      "execution_count": null,
      "outputs": [
        {
          "output_type": "stream",
          "name": "stdout",
          "text": [
            "86/86 [==============================] - 12s 29ms/step - loss: 0.3513 - acc: 0.8774\n"
          ]
        },
        {
          "output_type": "execute_result",
          "data": {
            "text/plain": [
              "[0.35131874680519104, 0.8773722648620605]"
            ]
          },
          "metadata": {},
          "execution_count": 15
        }
      ]
    },
    {
      "cell_type": "code",
      "metadata": {
        "id": "rq5tZLSJrkHX"
      },
      "source": [
        "# 학습한 ResNet152 모델 저장\n",
        "model.save(\"/content/drive/MyDrive/Colab Notebooks/resnet_train.h5\")"
      ],
      "execution_count": null,
      "outputs": []
    },
    {
      "cell_type": "code",
      "metadata": {
        "id": "ykBqjDAS09DO"
      },
      "source": [
        ""
      ],
      "execution_count": null,
      "outputs": []
    }
  ]
}